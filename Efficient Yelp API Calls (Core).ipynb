{
 "cells": [
  {
   "cell_type": "code",
   "execution_count": 1,
   "id": "222f54ff",
   "metadata": {},
   "outputs": [],
   "source": [
    "# Standard Imports\n",
    "import numpy as np\n",
    "import pandas as pd\n",
    "import matplotlib.pyplot as plt\n",
    "import seaborn as sns\n",
    "# Additional Imports\n",
    "import os, json, math, time\n",
    "from yelpapi import YelpAPI"
   ]
  },
  {
   "cell_type": "markdown",
   "id": "dcbf3af9",
   "metadata": {},
   "source": [
    "# Credentials and Accessing the API"
   ]
  },
  {
   "cell_type": "code",
   "execution_count": 2,
   "id": "6d91bcd0",
   "metadata": {},
   "outputs": [],
   "source": [
    "# Load API Credentials\n",
    "import json\n",
    "with open('/Users/Nick/.secret/yelp_api.json') as f:\n",
    "    login = json.load(f)\n",
    "login.keys()\n",
    "# Instantiate YelpAPI Variable\n",
    "yelp_api = YelpAPI(login['api-key'], timeout_s=5.0)"
   ]
  },
  {
   "cell_type": "markdown",
   "id": "ae4fea9b",
   "metadata": {},
   "source": [
    "# Define Search"
   ]
  },
  {
   "cell_type": "code",
   "execution_count": 3,
   "id": "025ea668",
   "metadata": {},
   "outputs": [],
   "source": [
    "# set our API call parameters and filename before the first call\n",
    "LOCATION = 'New York City,NY,10011'\n",
    "TERM = 'Macarons'"
   ]
  },
  {
   "cell_type": "markdown",
   "id": "c032c2ec",
   "metadata": {},
   "source": [
    "# Create a results-in-progress JSON file, but only if it doesn't exist."
   ]
  },
  {
   "cell_type": "code",
   "execution_count": 4,
   "id": "7f1930cc",
   "metadata": {},
   "outputs": [
    {
     "data": {
      "text/plain": [
       "'Data/results_in_progress_macarons_nyc.json'"
      ]
     },
     "execution_count": 4,
     "metadata": {},
     "output_type": "execute_result"
    }
   ],
   "source": [
    "# Specifying JSON_FILE filename (can include a folder)\n",
    "# include the search terms in the filename\n",
    "JSON_FILE = f\"Data/results_in_progress_macarons_nyc.json\"\n",
    "JSON_FILE"
   ]
  },
  {
   "cell_type": "code",
   "execution_count": 5,
   "id": "4b24f0d1",
   "metadata": {},
   "outputs": [
    {
     "name": "stdout",
     "output_type": "stream",
     "text": [
      "[i] Data/results_in_progress_macarons_nyc.json not found. Saving empty list to file.\n"
     ]
    }
   ],
   "source": [
    "## Check if JSON_FILE exists\n",
    "file_exists = os.path.isfile(JSON_FILE)\n",
    "## If it does not exist: \n",
    "if file_exists == False:\n",
    "    \n",
    "    ## CREATE ANY NEEDED FOLDERS\n",
    "    # Get the Folder Name only\n",
    "    folder = os.path.dirname(JSON_FILE)\n",
    "    ## If JSON_FILE included a folder:\n",
    "    if len(folder)>0:\n",
    "        # create the folder\n",
    "        os.makedirs(folder,exist_ok=True)\n",
    "        \n",
    "        \n",
    "    ## INFORM USER AND SAVE EMPTY LIST\n",
    "    print(f\"[i] {JSON_FILE} not found. Saving empty list to file.\")\n",
    "    \n",
    "    \n",
    "    ## save the first page of results\n",
    "    with open(JSON_FILE,'w') as f:\n",
    "        json.dump([],f)  \n",
    "## If it exists, inform user\n",
    "else:\n",
    "    print(f\"[i] {JSON_FILE} already exists.\")"
   ]
  },
  {
   "cell_type": "markdown",
   "id": "f96c370b",
   "metadata": {},
   "source": [
    "# Determine how many results are already in the file"
   ]
  },
  {
   "cell_type": "code",
   "execution_count": 6,
   "id": "eaf220d7",
   "metadata": {},
   "outputs": [
    {
     "name": "stdout",
     "output_type": "stream",
     "text": [
      "- 0 previous results found.\n"
     ]
    }
   ],
   "source": [
    "## Load previous results and use len of results for offset\n",
    "with open(JSON_FILE,'r') as f:\n",
    "    previous_results = json.load(f)\n",
    "    \n",
    "## set offset based on previous results\n",
    "n_results = len(previous_results)\n",
    "print(f'- {n_results} previous results found.')"
   ]
  },
  {
   "cell_type": "markdown",
   "id": "38b7954c",
   "metadata": {},
   "source": [
    "# Figure out how many pages of results we will need"
   ]
  },
  {
   "cell_type": "code",
   "execution_count": 7,
   "id": "633d7ddd",
   "metadata": {},
   "outputs": [
    {
     "data": {
      "text/plain": [
       "dict_keys(['businesses', 'total', 'region'])"
      ]
     },
     "execution_count": 7,
     "metadata": {},
     "output_type": "execute_result"
    }
   ],
   "source": [
    "# use our yelp_api variable's search_query method to perform our API call\n",
    "results = yelp_api.search_query(location=LOCATION,\n",
    "                                term=TERM,\n",
    "                               offset=n_results)\n",
    "results.keys()"
   ]
  },
  {
   "cell_type": "code",
   "execution_count": 8,
   "id": "deb8d486",
   "metadata": {},
   "outputs": [
    {
     "data": {
      "text/plain": [
       "364"
      ]
     },
     "execution_count": 8,
     "metadata": {},
     "output_type": "execute_result"
    }
   ],
   "source": [
    "## How many results total?\n",
    "total_results = results['total']\n",
    "total_results"
   ]
  },
  {
   "cell_type": "code",
   "execution_count": 9,
   "id": "5d65302f",
   "metadata": {},
   "outputs": [
    {
     "data": {
      "text/plain": [
       "20"
      ]
     },
     "execution_count": 9,
     "metadata": {},
     "output_type": "execute_result"
    }
   ],
   "source": [
    "## How many did we get the details for?\n",
    "results_per_page = len(results['businesses'])\n",
    "results_per_page"
   ]
  },
  {
   "cell_type": "code",
   "execution_count": 10,
   "id": "b51c5324",
   "metadata": {},
   "outputs": [
    {
     "data": {
      "text/plain": [
       "19"
      ]
     },
     "execution_count": 10,
     "metadata": {},
     "output_type": "execute_result"
    }
   ],
   "source": [
    "# Use math.ceil to round up for the total number of pages of results.\n",
    "n_pages = math.ceil((results['total']-n_results)/ results_per_page)\n",
    "n_pages"
   ]
  },
  {
   "cell_type": "markdown",
   "id": "95f1ff6a",
   "metadata": {},
   "source": [
    "# Add this page of results to .json file"
   ]
  },
  {
   "cell_type": "code",
   "execution_count": 11,
   "id": "50c21fec",
   "metadata": {},
   "outputs": [],
   "source": [
    "# join new results with old list with extend and save to file\n",
    "previous_results.extend(results['businesses'])  \n",
    "with open(JSON_FILE,'w') as f:\n",
    "     json.dump(previous_results,f)"
   ]
  },
  {
   "cell_type": "markdown",
   "id": "baae5573",
   "metadata": {},
   "source": [
    "# Setting a progress bar in our for loop."
   ]
  },
  {
   "cell_type": "code",
   "execution_count": 12,
   "id": "a46207b1",
   "metadata": {
    "scrolled": true
   },
   "outputs": [
    {
     "data": {
      "application/vnd.jupyter.widget-view+json": {
       "model_id": "cb4215829f9e45629bcb64fa986030b8",
       "version_major": 2,
       "version_minor": 0
      },
      "text/plain": [
       "  0%|          | 0/19 [00:00<?, ?it/s]"
      ]
     },
     "metadata": {},
     "output_type": "display_data"
    }
   ],
   "source": [
    "from tqdm.notebook import tqdm_notebook\n",
    "for i in tqdm_notebook(range(n_pages)):\n",
    "    # adds 200 ms pause\n",
    "    time.sleep(.2)"
   ]
  },
  {
   "cell_type": "markdown",
   "id": "8f05601d",
   "metadata": {},
   "source": [
    "# For Loop to call each page"
   ]
  },
  {
   "cell_type": "code",
   "execution_count": 13,
   "id": "b774190a",
   "metadata": {
    "scrolled": true
   },
   "outputs": [
    {
     "data": {
      "application/vnd.jupyter.widget-view+json": {
       "model_id": "7273321ebbd34d1eb7a44f67816c0046",
       "version_major": 2,
       "version_minor": 0
      },
      "text/plain": [
       "  0%|          | 0/19 [00:00<?, ?it/s]"
      ]
     },
     "metadata": {},
     "output_type": "display_data"
    }
   ],
   "source": [
    "for i in tqdm_notebook( range(1,n_pages+1)):\n",
    "    time.sleep(.2)\n",
    "    ## Read in results in progress file and check the length\n",
    "    with open(JSON_FILE, 'r') as f:\n",
    "        previous_results = json.load(f)\n",
    "    ## save number of results for to use as offset\n",
    "    n_results = len(previous_results)\n",
    "    ## use n_results as the OFFSET \n",
    "    results = yelp_api.search_query(location=LOCATION,\n",
    "                                    term=TERM, \n",
    "                                    offset=n_results)\n",
    "    \n",
    "    ## append new results and save to file\n",
    "    previous_results.extend(results['businesses'])\n",
    "    \n",
    "#     display(previous_results)\n",
    "    with open(JSON_FILE,'w') as f:\n",
    "        json.dump(previous_results,f)"
   ]
  },
  {
   "cell_type": "markdown",
   "id": "5f3f3684",
   "metadata": {},
   "source": [
    "# Convert .json to dataframe"
   ]
  },
  {
   "cell_type": "code",
   "execution_count": 14,
   "id": "c57e3284",
   "metadata": {
    "scrolled": true
   },
   "outputs": [
    {
     "data": {
      "text/html": [
       "<div>\n",
       "<style scoped>\n",
       "    .dataframe tbody tr th:only-of-type {\n",
       "        vertical-align: middle;\n",
       "    }\n",
       "\n",
       "    .dataframe tbody tr th {\n",
       "        vertical-align: top;\n",
       "    }\n",
       "\n",
       "    .dataframe thead th {\n",
       "        text-align: right;\n",
       "    }\n",
       "</style>\n",
       "<table border=\"1\" class=\"dataframe\">\n",
       "  <thead>\n",
       "    <tr style=\"text-align: right;\">\n",
       "      <th></th>\n",
       "      <th>id</th>\n",
       "      <th>alias</th>\n",
       "      <th>name</th>\n",
       "      <th>image_url</th>\n",
       "      <th>is_closed</th>\n",
       "      <th>url</th>\n",
       "      <th>review_count</th>\n",
       "      <th>categories</th>\n",
       "      <th>rating</th>\n",
       "      <th>coordinates</th>\n",
       "      <th>transactions</th>\n",
       "      <th>price</th>\n",
       "      <th>location</th>\n",
       "      <th>phone</th>\n",
       "      <th>display_phone</th>\n",
       "      <th>distance</th>\n",
       "    </tr>\n",
       "  </thead>\n",
       "  <tbody>\n",
       "    <tr>\n",
       "      <th>0</th>\n",
       "      <td>_DcfYjnGffQI3iP1Be0kdA</td>\n",
       "      <td>ladurée-madison-new-york-2</td>\n",
       "      <td>Ladurée Madison</td>\n",
       "      <td>https://s3-media1.fl.yelpcdn.com/bphoto/8sYGln...</td>\n",
       "      <td>False</td>\n",
       "      <td>https://www.yelp.com/biz/ladur%C3%A9e-madison-...</td>\n",
       "      <td>1956</td>\n",
       "      <td>[{'alias': 'macarons', 'title': 'Macarons'}, {...</td>\n",
       "      <td>4.5</td>\n",
       "      <td>{'latitude': 40.7707702252517, 'longitude': -7...</td>\n",
       "      <td>[pickup, delivery]</td>\n",
       "      <td>$$$</td>\n",
       "      <td>{'address1': '864 Madison Ave', 'address2': ''...</td>\n",
       "      <td>+16465583157</td>\n",
       "      <td>(646) 558-3157</td>\n",
       "      <td>4237.763954</td>\n",
       "    </tr>\n",
       "    <tr>\n",
       "      <th>1</th>\n",
       "      <td>TmEPtynTP1qoTqwUbGKyGw</td>\n",
       "      <td>ladurée-soho-new-york-2</td>\n",
       "      <td>Ladurée SoHo</td>\n",
       "      <td>https://s3-media2.fl.yelpcdn.com/bphoto/kOU2qg...</td>\n",
       "      <td>False</td>\n",
       "      <td>https://www.yelp.com/biz/ladur%C3%A9e-soho-new...</td>\n",
       "      <td>1712</td>\n",
       "      <td>[{'alias': 'tea', 'title': 'Tea Rooms'}, {'ali...</td>\n",
       "      <td>3.5</td>\n",
       "      <td>{'latitude': 40.724329, 'longitude': -74.002508}</td>\n",
       "      <td>[pickup, delivery]</td>\n",
       "      <td>$$$</td>\n",
       "      <td>{'address1': '398 W Broadway', 'address2': '',...</td>\n",
       "      <td>+16463927868</td>\n",
       "      <td>(646) 392-7868</td>\n",
       "      <td>2145.385641</td>\n",
       "    </tr>\n",
       "    <tr>\n",
       "      <th>2</th>\n",
       "      <td>yTyqDCF5fB2nLVcSXEHMQg</td>\n",
       "      <td>made-by-pauline-new-york-2</td>\n",
       "      <td>Made by Pauline</td>\n",
       "      <td>https://s3-media4.fl.yelpcdn.com/bphoto/wNj_Kg...</td>\n",
       "      <td>False</td>\n",
       "      <td>https://www.yelp.com/biz/made-by-pauline-new-y...</td>\n",
       "      <td>106</td>\n",
       "      <td>[{'alias': 'macarons', 'title': 'Macarons'}, {...</td>\n",
       "      <td>4.5</td>\n",
       "      <td>{'latitude': 40.750802, 'longitude': -73.989484}</td>\n",
       "      <td>[delivery]</td>\n",
       "      <td>$$</td>\n",
       "      <td>{'address1': '151 W 34th St', 'address2': '', ...</td>\n",
       "      <td>+12124941003</td>\n",
       "      <td>(212) 494-1003</td>\n",
       "      <td>1301.424555</td>\n",
       "    </tr>\n",
       "    <tr>\n",
       "      <th>3</th>\n",
       "      <td>x2OI4M2QJOo3Ymf8YHBhdw</td>\n",
       "      <td>la-maison-du-macaron-new-york</td>\n",
       "      <td>La Maison du Macaron</td>\n",
       "      <td>https://s3-media3.fl.yelpcdn.com/bphoto/K5v0wv...</td>\n",
       "      <td>False</td>\n",
       "      <td>https://www.yelp.com/biz/la-maison-du-macaron-...</td>\n",
       "      <td>894</td>\n",
       "      <td>[{'alias': 'macarons', 'title': 'Macarons'}, {...</td>\n",
       "      <td>4.0</td>\n",
       "      <td>{'latitude': 40.74318, 'longitude': -73.99419}</td>\n",
       "      <td>[delivery]</td>\n",
       "      <td>$$</td>\n",
       "      <td>{'address1': '132 W 23rd St', 'address2': '', ...</td>\n",
       "      <td>+12122432757</td>\n",
       "      <td>(212) 243-2757</td>\n",
       "      <td>633.819024</td>\n",
       "    </tr>\n",
       "    <tr>\n",
       "      <th>4</th>\n",
       "      <td>meVzfRH_wLAJjcrCAhkh1g</td>\n",
       "      <td>patisserie-chanson-new-york-3</td>\n",
       "      <td>Patisserie Chanson</td>\n",
       "      <td>https://s3-media3.fl.yelpcdn.com/bphoto/H8O7jD...</td>\n",
       "      <td>False</td>\n",
       "      <td>https://www.yelp.com/biz/patisserie-chanson-ne...</td>\n",
       "      <td>474</td>\n",
       "      <td>[{'alias': 'desserts', 'title': 'Desserts'}, {...</td>\n",
       "      <td>4.0</td>\n",
       "      <td>{'latitude': 40.7417, 'longitude': -73.990571}</td>\n",
       "      <td>[delivery, pickup]</td>\n",
       "      <td>$$</td>\n",
       "      <td>{'address1': '20 W 23rd St', 'address2': '', '...</td>\n",
       "      <td>+19294238880</td>\n",
       "      <td>(929) 423-8880</td>\n",
       "      <td>960.237956</td>\n",
       "    </tr>\n",
       "  </tbody>\n",
       "</table>\n",
       "</div>"
      ],
      "text/plain": [
       "                       id                          alias  \\\n",
       "0  _DcfYjnGffQI3iP1Be0kdA     ladurée-madison-new-york-2   \n",
       "1  TmEPtynTP1qoTqwUbGKyGw        ladurée-soho-new-york-2   \n",
       "2  yTyqDCF5fB2nLVcSXEHMQg     made-by-pauline-new-york-2   \n",
       "3  x2OI4M2QJOo3Ymf8YHBhdw  la-maison-du-macaron-new-york   \n",
       "4  meVzfRH_wLAJjcrCAhkh1g  patisserie-chanson-new-york-3   \n",
       "\n",
       "                   name                                          image_url  \\\n",
       "0       Ladurée Madison  https://s3-media1.fl.yelpcdn.com/bphoto/8sYGln...   \n",
       "1          Ladurée SoHo  https://s3-media2.fl.yelpcdn.com/bphoto/kOU2qg...   \n",
       "2       Made by Pauline  https://s3-media4.fl.yelpcdn.com/bphoto/wNj_Kg...   \n",
       "3  La Maison du Macaron  https://s3-media3.fl.yelpcdn.com/bphoto/K5v0wv...   \n",
       "4    Patisserie Chanson  https://s3-media3.fl.yelpcdn.com/bphoto/H8O7jD...   \n",
       "\n",
       "   is_closed                                                url  review_count  \\\n",
       "0      False  https://www.yelp.com/biz/ladur%C3%A9e-madison-...          1956   \n",
       "1      False  https://www.yelp.com/biz/ladur%C3%A9e-soho-new...          1712   \n",
       "2      False  https://www.yelp.com/biz/made-by-pauline-new-y...           106   \n",
       "3      False  https://www.yelp.com/biz/la-maison-du-macaron-...           894   \n",
       "4      False  https://www.yelp.com/biz/patisserie-chanson-ne...           474   \n",
       "\n",
       "                                          categories  rating  \\\n",
       "0  [{'alias': 'macarons', 'title': 'Macarons'}, {...     4.5   \n",
       "1  [{'alias': 'tea', 'title': 'Tea Rooms'}, {'ali...     3.5   \n",
       "2  [{'alias': 'macarons', 'title': 'Macarons'}, {...     4.5   \n",
       "3  [{'alias': 'macarons', 'title': 'Macarons'}, {...     4.0   \n",
       "4  [{'alias': 'desserts', 'title': 'Desserts'}, {...     4.0   \n",
       "\n",
       "                                         coordinates        transactions  \\\n",
       "0  {'latitude': 40.7707702252517, 'longitude': -7...  [pickup, delivery]   \n",
       "1   {'latitude': 40.724329, 'longitude': -74.002508}  [pickup, delivery]   \n",
       "2   {'latitude': 40.750802, 'longitude': -73.989484}          [delivery]   \n",
       "3     {'latitude': 40.74318, 'longitude': -73.99419}          [delivery]   \n",
       "4     {'latitude': 40.7417, 'longitude': -73.990571}  [delivery, pickup]   \n",
       "\n",
       "  price                                           location         phone  \\\n",
       "0   $$$  {'address1': '864 Madison Ave', 'address2': ''...  +16465583157   \n",
       "1   $$$  {'address1': '398 W Broadway', 'address2': '',...  +16463927868   \n",
       "2    $$  {'address1': '151 W 34th St', 'address2': '', ...  +12124941003   \n",
       "3    $$  {'address1': '132 W 23rd St', 'address2': '', ...  +12122432757   \n",
       "4    $$  {'address1': '20 W 23rd St', 'address2': '', '...  +19294238880   \n",
       "\n",
       "    display_phone     distance  \n",
       "0  (646) 558-3157  4237.763954  \n",
       "1  (646) 392-7868  2145.385641  \n",
       "2  (212) 494-1003  1301.424555  \n",
       "3  (212) 243-2757   633.819024  \n",
       "4  (929) 423-8880   960.237956  "
      ]
     },
     "metadata": {},
     "output_type": "display_data"
    },
    {
     "data": {
      "text/html": [
       "<div>\n",
       "<style scoped>\n",
       "    .dataframe tbody tr th:only-of-type {\n",
       "        vertical-align: middle;\n",
       "    }\n",
       "\n",
       "    .dataframe tbody tr th {\n",
       "        vertical-align: top;\n",
       "    }\n",
       "\n",
       "    .dataframe thead th {\n",
       "        text-align: right;\n",
       "    }\n",
       "</style>\n",
       "<table border=\"1\" class=\"dataframe\">\n",
       "  <thead>\n",
       "    <tr style=\"text-align: right;\">\n",
       "      <th></th>\n",
       "      <th>id</th>\n",
       "      <th>alias</th>\n",
       "      <th>name</th>\n",
       "      <th>image_url</th>\n",
       "      <th>is_closed</th>\n",
       "      <th>url</th>\n",
       "      <th>review_count</th>\n",
       "      <th>categories</th>\n",
       "      <th>rating</th>\n",
       "      <th>coordinates</th>\n",
       "      <th>transactions</th>\n",
       "      <th>price</th>\n",
       "      <th>location</th>\n",
       "      <th>phone</th>\n",
       "      <th>display_phone</th>\n",
       "      <th>distance</th>\n",
       "    </tr>\n",
       "  </thead>\n",
       "  <tbody>\n",
       "    <tr>\n",
       "      <th>359</th>\n",
       "      <td>yy3PgFnyKYRwpUujvMgBZA</td>\n",
       "      <td>space-market-new-york-2</td>\n",
       "      <td>Space Market</td>\n",
       "      <td>https://s3-media1.fl.yelpcdn.com/bphoto/S6kN3L...</td>\n",
       "      <td>False</td>\n",
       "      <td>https://www.yelp.com/biz/space-market-new-york...</td>\n",
       "      <td>28</td>\n",
       "      <td>[{'alias': 'convenience', 'title': 'Convenienc...</td>\n",
       "      <td>2.5</td>\n",
       "      <td>{'latitude': 40.76147, 'longitude': -73.96025}</td>\n",
       "      <td>[pickup, delivery]</td>\n",
       "      <td>$$</td>\n",
       "      <td>{'address1': '1130 1st Ave', 'address2': '', '...</td>\n",
       "      <td>+12124863040</td>\n",
       "      <td>(212) 486-3040</td>\n",
       "      <td>4014.055224</td>\n",
       "    </tr>\n",
       "    <tr>\n",
       "      <th>360</th>\n",
       "      <td>N3dyf-UuX-f1SHJhhpsMlQ</td>\n",
       "      <td>7-eleven-hoboken</td>\n",
       "      <td>7-Eleven</td>\n",
       "      <td>https://s3-media1.fl.yelpcdn.com/bphoto/DLeheZ...</td>\n",
       "      <td>False</td>\n",
       "      <td>https://www.yelp.com/biz/7-eleven-hoboken?adju...</td>\n",
       "      <td>10</td>\n",
       "      <td>[{'alias': 'convenience', 'title': 'Convenienc...</td>\n",
       "      <td>3.0</td>\n",
       "      <td>{'latitude': 40.74214620734, 'longitude': -74....</td>\n",
       "      <td>[delivery, pickup]</td>\n",
       "      <td>$</td>\n",
       "      <td>{'address1': '422 Washington St', 'address2': ...</td>\n",
       "      <td>+12012226323</td>\n",
       "      <td>(201) 222-6323</td>\n",
       "      <td>2368.773272</td>\n",
       "    </tr>\n",
       "    <tr>\n",
       "      <th>361</th>\n",
       "      <td>mosd9Voq5Ws6k6Uduii_ww</td>\n",
       "      <td>bar-boulud-new-york-2</td>\n",
       "      <td>Bar Boulud</td>\n",
       "      <td>https://s3-media2.fl.yelpcdn.com/bphoto/L8ZAzt...</td>\n",
       "      <td>False</td>\n",
       "      <td>https://www.yelp.com/biz/bar-boulud-new-york-2...</td>\n",
       "      <td>921</td>\n",
       "      <td>[{'alias': 'french', 'title': 'French'}, {'ali...</td>\n",
       "      <td>3.5</td>\n",
       "      <td>{'latitude': 40.7718443592464, 'longitude': -7...</td>\n",
       "      <td>[delivery, pickup]</td>\n",
       "      <td>$$$</td>\n",
       "      <td>{'address1': '1900 Broadway', 'address2': '', ...</td>\n",
       "      <td>+12125950303</td>\n",
       "      <td>(212) 595-0303</td>\n",
       "      <td>3554.464638</td>\n",
       "    </tr>\n",
       "    <tr>\n",
       "      <th>362</th>\n",
       "      <td>_TbQFqDl7B-uXNIFYVkEIQ</td>\n",
       "      <td>7-eleven-union-city-5</td>\n",
       "      <td>7-Eleven</td>\n",
       "      <td>https://s3-media3.fl.yelpcdn.com/bphoto/3cl2NG...</td>\n",
       "      <td>False</td>\n",
       "      <td>https://www.yelp.com/biz/7-eleven-union-city-5...</td>\n",
       "      <td>4</td>\n",
       "      <td>[{'alias': 'convenience', 'title': 'Convenienc...</td>\n",
       "      <td>2.5</td>\n",
       "      <td>{'latitude': 40.77577, 'longitude': -74.0261}</td>\n",
       "      <td>[delivery, pickup]</td>\n",
       "      <td>$</td>\n",
       "      <td>{'address1': '3900 Bergenline', 'address2': ''...</td>\n",
       "      <td>+12012230711</td>\n",
       "      <td>(201) 223-0711</td>\n",
       "      <td>4132.835776</td>\n",
       "    </tr>\n",
       "    <tr>\n",
       "      <th>363</th>\n",
       "      <td>mwvukHjc7Trs5fRbZ4-TsA</td>\n",
       "      <td>fabbrica-restaurant-and-bar-brooklyn</td>\n",
       "      <td>Fabbrica Restaurant &amp; Bar</td>\n",
       "      <td>https://s3-media2.fl.yelpcdn.com/bphoto/YKfdym...</td>\n",
       "      <td>False</td>\n",
       "      <td>https://www.yelp.com/biz/fabbrica-restaurant-a...</td>\n",
       "      <td>312</td>\n",
       "      <td>[{'alias': 'italian', 'title': 'Italian'}, {'a...</td>\n",
       "      <td>3.5</td>\n",
       "      <td>{'latitude': 40.7196429, 'longitude': -73.9626...</td>\n",
       "      <td>[restaurant_reservation, delivery, pickup]</td>\n",
       "      <td>$$</td>\n",
       "      <td>{'address1': '44 N 6th St', 'address2': None, ...</td>\n",
       "      <td>+13474220923</td>\n",
       "      <td>(347) 422-0923</td>\n",
       "      <td>4231.837651</td>\n",
       "    </tr>\n",
       "  </tbody>\n",
       "</table>\n",
       "</div>"
      ],
      "text/plain": [
       "                         id                                 alias  \\\n",
       "359  yy3PgFnyKYRwpUujvMgBZA               space-market-new-york-2   \n",
       "360  N3dyf-UuX-f1SHJhhpsMlQ                      7-eleven-hoboken   \n",
       "361  mosd9Voq5Ws6k6Uduii_ww                 bar-boulud-new-york-2   \n",
       "362  _TbQFqDl7B-uXNIFYVkEIQ                 7-eleven-union-city-5   \n",
       "363  mwvukHjc7Trs5fRbZ4-TsA  fabbrica-restaurant-and-bar-brooklyn   \n",
       "\n",
       "                          name  \\\n",
       "359               Space Market   \n",
       "360                   7-Eleven   \n",
       "361                 Bar Boulud   \n",
       "362                   7-Eleven   \n",
       "363  Fabbrica Restaurant & Bar   \n",
       "\n",
       "                                             image_url  is_closed  \\\n",
       "359  https://s3-media1.fl.yelpcdn.com/bphoto/S6kN3L...      False   \n",
       "360  https://s3-media1.fl.yelpcdn.com/bphoto/DLeheZ...      False   \n",
       "361  https://s3-media2.fl.yelpcdn.com/bphoto/L8ZAzt...      False   \n",
       "362  https://s3-media3.fl.yelpcdn.com/bphoto/3cl2NG...      False   \n",
       "363  https://s3-media2.fl.yelpcdn.com/bphoto/YKfdym...      False   \n",
       "\n",
       "                                                   url  review_count  \\\n",
       "359  https://www.yelp.com/biz/space-market-new-york...            28   \n",
       "360  https://www.yelp.com/biz/7-eleven-hoboken?adju...            10   \n",
       "361  https://www.yelp.com/biz/bar-boulud-new-york-2...           921   \n",
       "362  https://www.yelp.com/biz/7-eleven-union-city-5...             4   \n",
       "363  https://www.yelp.com/biz/fabbrica-restaurant-a...           312   \n",
       "\n",
       "                                            categories  rating  \\\n",
       "359  [{'alias': 'convenience', 'title': 'Convenienc...     2.5   \n",
       "360  [{'alias': 'convenience', 'title': 'Convenienc...     3.0   \n",
       "361  [{'alias': 'french', 'title': 'French'}, {'ali...     3.5   \n",
       "362  [{'alias': 'convenience', 'title': 'Convenienc...     2.5   \n",
       "363  [{'alias': 'italian', 'title': 'Italian'}, {'a...     3.5   \n",
       "\n",
       "                                           coordinates  \\\n",
       "359     {'latitude': 40.76147, 'longitude': -73.96025}   \n",
       "360  {'latitude': 40.74214620734, 'longitude': -74....   \n",
       "361  {'latitude': 40.7718443592464, 'longitude': -7...   \n",
       "362      {'latitude': 40.77577, 'longitude': -74.0261}   \n",
       "363  {'latitude': 40.7196429, 'longitude': -73.9626...   \n",
       "\n",
       "                                   transactions price  \\\n",
       "359                          [pickup, delivery]    $$   \n",
       "360                          [delivery, pickup]     $   \n",
       "361                          [delivery, pickup]   $$$   \n",
       "362                          [delivery, pickup]     $   \n",
       "363  [restaurant_reservation, delivery, pickup]    $$   \n",
       "\n",
       "                                              location         phone  \\\n",
       "359  {'address1': '1130 1st Ave', 'address2': '', '...  +12124863040   \n",
       "360  {'address1': '422 Washington St', 'address2': ...  +12012226323   \n",
       "361  {'address1': '1900 Broadway', 'address2': '', ...  +12125950303   \n",
       "362  {'address1': '3900 Bergenline', 'address2': ''...  +12012230711   \n",
       "363  {'address1': '44 N 6th St', 'address2': None, ...  +13474220923   \n",
       "\n",
       "      display_phone     distance  \n",
       "359  (212) 486-3040  4014.055224  \n",
       "360  (201) 222-6323  2368.773272  \n",
       "361  (212) 595-0303  3554.464638  \n",
       "362  (201) 223-0711  4132.835776  \n",
       "363  (347) 422-0923  4231.837651  "
      ]
     },
     "metadata": {},
     "output_type": "display_data"
    }
   ],
   "source": [
    "# load final results\n",
    "final_df = pd.read_json(JSON_FILE)\n",
    "display(final_df.head(), final_df.tail())"
   ]
  },
  {
   "cell_type": "markdown",
   "id": "35b29691",
   "metadata": {},
   "source": [
    "# Check for duplicates"
   ]
  },
  {
   "cell_type": "code",
   "execution_count": 15,
   "id": "b9ac0c3d",
   "metadata": {},
   "outputs": [
    {
     "data": {
      "text/plain": [
       "0"
      ]
     },
     "execution_count": 15,
     "metadata": {},
     "output_type": "execute_result"
    }
   ],
   "source": [
    "# check for duplicate IDs\n",
    "final_df.duplicated(subset='id').sum()"
   ]
  },
  {
   "cell_type": "markdown",
   "id": "78254f34",
   "metadata": {},
   "source": [
    "# Save the final DataFrame to a .csv (or a .csv.gz if its too big for the GitHub file size limit)."
   ]
  },
  {
   "cell_type": "code",
   "execution_count": 16,
   "id": "83e9f88c",
   "metadata": {},
   "outputs": [],
   "source": [
    "# save the final results to a compressed csv\n",
    "final_df.to_csv('Data/final_results_macarons_nyc.csv.gz', compression='gzip',index=False)"
   ]
  }
 ],
 "metadata": {
  "kernelspec": {
   "display_name": "Python (dojo-env)",
   "language": "python",
   "name": "dojo-env"
  },
  "language_info": {
   "codemirror_mode": {
    "name": "ipython",
    "version": 3
   },
   "file_extension": ".py",
   "mimetype": "text/x-python",
   "name": "python",
   "nbconvert_exporter": "python",
   "pygments_lexer": "ipython3",
   "version": "3.7.12"
  },
  "toc": {
   "base_numbering": 1,
   "nav_menu": {},
   "number_sections": false,
   "sideBar": true,
   "skip_h1_title": false,
   "title_cell": "Table of Contents",
   "title_sidebar": "Contents",
   "toc_cell": false,
   "toc_position": {},
   "toc_section_display": true,
   "toc_window_display": false
  }
 },
 "nbformat": 4,
 "nbformat_minor": 5
}
